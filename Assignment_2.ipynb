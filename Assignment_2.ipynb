{
  "nbformat": 4,
  "nbformat_minor": 0,
  "metadata": {
    "colab": {
      "provenance": []
    },
    "kernelspec": {
      "name": "python3",
      "display_name": "Python 3"
    },
    "language_info": {
      "name": "python"
    }
  },
  "cells": [
    {
      "cell_type": "code",
      "source": [
        "import pandas as pd\n",
        "from sklearn.preprocessing import MinMaxScaler\n"
      ],
      "metadata": {
        "id": "QvATE_eLSzfy"
      },
      "execution_count": 2,
      "outputs": []
    },
    {
      "cell_type": "code",
      "source": [
        "from google.colab import drive\n",
        "drive.mount('/content/drive')\n"
      ],
      "metadata": {
        "colab": {
          "base_uri": "https://localhost:8080/"
        },
        "id": "FSfiL4R2S0UL",
        "outputId": "7ac3b7a5-77f7-44f0-81a8-d6e45f965952"
      },
      "execution_count": 3,
      "outputs": [
        {
          "output_type": "stream",
          "name": "stdout",
          "text": [
            "Mounted at /content/drive\n"
          ]
        }
      ]
    },
    {
      "cell_type": "code",
      "source": [
        "file_path='/content/Book1.csv.xlsx'"
      ],
      "metadata": {
        "id": "fPolL6sUTyNL"
      },
      "execution_count": 6,
      "outputs": []
    },
    {
      "cell_type": "code",
      "source": [
        "df = pd.read_excel(file_path)\n"
      ],
      "metadata": {
        "id": "GYAZ69-zUHMo"
      },
      "execution_count": 7,
      "outputs": []
    },
    {
      "cell_type": "code",
      "source": [
        "columns_to_normalize = [\"Gender\",\"Age Range\",\"Head Size(cm^3)\", \"Brain Weight(grams)\"]\n"
      ],
      "metadata": {
        "id": "xHndQAzGUXKE"
      },
      "execution_count": 11,
      "outputs": []
    },
    {
      "cell_type": "code",
      "source": [
        "print(df)"
      ],
      "metadata": {
        "colab": {
          "base_uri": "https://localhost:8080/"
        },
        "id": "38nDvYhXUssu",
        "outputId": "1bd5074e-dea3-456b-ab26-ed6e7aa5111c"
      },
      "execution_count": 12,
      "outputs": [
        {
          "output_type": "stream",
          "name": "stdout",
          "text": [
            "    Unnamed: 0  Unnamed: 1  Unnamed: 2  Unnamed: 3  Unnamed: 4  Unnamed: 5  \\\n",
            "0          NaN         NaN         NaN         NaN         NaN         NaN   \n",
            "1          NaN         NaN         NaN         NaN         NaN         NaN   \n",
            "2          NaN         NaN         NaN         NaN         NaN         NaN   \n",
            "3          NaN         NaN         NaN         NaN         NaN         NaN   \n",
            "4          NaN         NaN         NaN         NaN         NaN         NaN   \n",
            "5          NaN         NaN         NaN         NaN         NaN         NaN   \n",
            "6          NaN         NaN         NaN         NaN         NaN         NaN   \n",
            "7          NaN         NaN         NaN         NaN         NaN         NaN   \n",
            "8          NaN         NaN         NaN         NaN         NaN         NaN   \n",
            "9          NaN         NaN         NaN         NaN         NaN         NaN   \n",
            "10         NaN         NaN         NaN         NaN         NaN         NaN   \n",
            "11         NaN         NaN         NaN         NaN         NaN         NaN   \n",
            "12         NaN         NaN         NaN         NaN         NaN         NaN   \n",
            "13         NaN         NaN         NaN         NaN         NaN         NaN   \n",
            "14         NaN         NaN         NaN         NaN         NaN         NaN   \n",
            "15         NaN         NaN         NaN         NaN         NaN         NaN   \n",
            "16         NaN         NaN         NaN         NaN         NaN         NaN   \n",
            "17         NaN         NaN         NaN         NaN         NaN         NaN   \n",
            "18         NaN         NaN         NaN         NaN         NaN         NaN   \n",
            "19         NaN         NaN         NaN         NaN         NaN         NaN   \n",
            "20         NaN         NaN         NaN         NaN         NaN         NaN   \n",
            "21         NaN         NaN         NaN         NaN         NaN         NaN   \n",
            "22         NaN         NaN         NaN         NaN         NaN         NaN   \n",
            "23         NaN         NaN         NaN         NaN         NaN         NaN   \n",
            "24         NaN         NaN         NaN         NaN         NaN         NaN   \n",
            "25         NaN         NaN         NaN         NaN         NaN         NaN   \n",
            "\n",
            "    Unnamed: 6 Unnamed: 7 Unnamed: 8       Unnamed: 9          Unnamed: 10  \n",
            "0          NaN        NaN        NaN              NaN                  NaN  \n",
            "1          NaN        NaN        NaN              NaN                  NaN  \n",
            "2          NaN        NaN        NaN              NaN                  NaN  \n",
            "3          NaN        NaN        NaN              NaN                  NaN  \n",
            "4          NaN        NaN        NaN              NaN                  NaN  \n",
            "5          NaN        NaN        NaN              NaN                  NaN  \n",
            "6          NaN        NaN        NaN              NaN                  NaN  \n",
            "7          NaN        NaN        NaN              NaN                  NaN  \n",
            "8          NaN        NaN        NaN              NaN                  NaN  \n",
            "9          NaN        NaN        NaN              NaN                  NaN  \n",
            "10         NaN     Gender  Age Range  Head Size(cm^3)  Brain Weight(grams)  \n",
            "11         NaN          1          1             4512                 1530  \n",
            "12         NaN          1          1             3738                 1297  \n",
            "13         NaN          1          1             4261                 1335  \n",
            "14         NaN          1          1             3777                 1282  \n",
            "15         NaN          1          1             4177                 1590  \n",
            "16         NaN          1          1             3585                 1300  \n",
            "17         NaN          1          1             3785                 1400  \n",
            "18         NaN          1          1             3559                 1255  \n",
            "19         NaN          1          2             3613                 1355  \n",
            "20         NaN          2          2             3982                 1375  \n",
            "21         NaN          2          2             3443                 1340  \n",
            "22         NaN          2          2             3993                 1380  \n",
            "23         NaN          2          2             3640                 1355  \n",
            "24         NaN          2          2             4208                 1522  \n",
            "25         NaN          2          2             3832                 1208  \n"
          ]
        }
      ]
    },
    {
      "cell_type": "code",
      "source": [
        "import pandas as pd\n",
        "\n",
        "\n",
        "file_path = '/content/housing.csv'\n",
        "df = pd.read_csv(file_path)\n",
        "\n",
        "# Display basic statistics of the data\n",
        "description = df.describe()\n",
        "print(description)"
      ],
      "metadata": {
        "colab": {
          "base_uri": "https://localhost:8080/"
        },
        "id": "m9h90Z8eZDn6",
        "outputId": "d865da3c-3073-42aa-c835-440495882464"
      },
      "execution_count": 13,
      "outputs": [
        {
          "output_type": "stream",
          "name": "stdout",
          "text": [
            "          longitude      latitude  housing_median_age   total_rooms  \\\n",
            "count  20640.000000  20640.000000        20640.000000  20640.000000   \n",
            "mean    -119.569704     35.631861           28.639486   2635.763081   \n",
            "std        2.003532      2.135952           12.585558   2181.615252   \n",
            "min     -124.350000     32.540000            1.000000      2.000000   \n",
            "25%     -121.800000     33.930000           18.000000   1447.750000   \n",
            "50%     -118.490000     34.260000           29.000000   2127.000000   \n",
            "75%     -118.010000     37.710000           37.000000   3148.000000   \n",
            "max     -114.310000     41.950000           52.000000  39320.000000   \n",
            "\n",
            "       total_bedrooms    population    households  median_income  \\\n",
            "count    20433.000000  20640.000000  20640.000000   20640.000000   \n",
            "mean       537.870553   1425.476744    499.539680       3.870671   \n",
            "std        421.385070   1132.462122    382.329753       1.899822   \n",
            "min          1.000000      3.000000      1.000000       0.499900   \n",
            "25%        296.000000    787.000000    280.000000       2.563400   \n",
            "50%        435.000000   1166.000000    409.000000       3.534800   \n",
            "75%        647.000000   1725.000000    605.000000       4.743250   \n",
            "max       6445.000000  35682.000000   6082.000000      15.000100   \n",
            "\n",
            "       median_house_value  \n",
            "count        20640.000000  \n",
            "mean        206855.816909  \n",
            "std         115395.615874  \n",
            "min          14999.000000  \n",
            "25%         119600.000000  \n",
            "50%         179700.000000  \n",
            "75%         264725.000000  \n",
            "max         500001.000000  \n"
          ]
        }
      ]
    },
    {
      "cell_type": "code",
      "source": [
        "\n",
        "data_types = df.dtypes\n",
        "shape = df.shape\n",
        "\n",
        "print(\"Data Types:\")\n",
        "print(data_types)\n",
        "print(\"\\nShape:\")\n",
        "print(shape)"
      ],
      "metadata": {
        "colab": {
          "base_uri": "https://localhost:8080/"
        },
        "id": "VvxBYxwlZ8W8",
        "outputId": "38471dee-e751-491a-b99f-af35d1e67586"
      },
      "execution_count": 14,
      "outputs": [
        {
          "output_type": "stream",
          "name": "stdout",
          "text": [
            "Data Types:\n",
            "longitude             float64\n",
            "latitude              float64\n",
            "housing_median_age    float64\n",
            "total_rooms           float64\n",
            "total_bedrooms        float64\n",
            "population            float64\n",
            "households            float64\n",
            "median_income         float64\n",
            "median_house_value    float64\n",
            "ocean_proximity        object\n",
            "dtype: object\n",
            "\n",
            "Shape:\n",
            "(20640, 10)\n"
          ]
        }
      ]
    },
    {
      "cell_type": "code",
      "source": [
        "\n",
        "null_values = df.isnull().sum()\n",
        "\n",
        "\n",
        "df_filled = df.fillna(0)\n",
        "\n",
        "print(\"Null Values:\")\n",
        "print(null_values)\n",
        "\n",
        "\n",
        "print(\"\\nDataFrame after filling null values:\")\n",
        "print(df_filled)"
      ],
      "metadata": {
        "colab": {
          "base_uri": "https://localhost:8080/"
        },
        "id": "wJ_Ws1ydaCrC",
        "outputId": "0d2eb4b9-8103-4250-80d7-dca48f87bf76"
      },
      "execution_count": 16,
      "outputs": [
        {
          "output_type": "stream",
          "name": "stdout",
          "text": [
            "Null Values:\n",
            "longitude               0\n",
            "latitude                0\n",
            "housing_median_age      0\n",
            "total_rooms             0\n",
            "total_bedrooms        207\n",
            "population              0\n",
            "households              0\n",
            "median_income           0\n",
            "median_house_value      0\n",
            "ocean_proximity         0\n",
            "dtype: int64\n",
            "\n",
            "DataFrame after filling null values:\n",
            "       longitude  latitude  housing_median_age  total_rooms  total_bedrooms  \\\n",
            "0        -122.23     37.88                41.0        880.0           129.0   \n",
            "1        -122.22     37.86                21.0       7099.0          1106.0   \n",
            "2        -122.24     37.85                52.0       1467.0           190.0   \n",
            "3        -122.25     37.85                52.0       1274.0           235.0   \n",
            "4        -122.25     37.85                52.0       1627.0           280.0   \n",
            "...          ...       ...                 ...          ...             ...   \n",
            "20635    -121.09     39.48                25.0       1665.0           374.0   \n",
            "20636    -121.21     39.49                18.0        697.0           150.0   \n",
            "20637    -121.22     39.43                17.0       2254.0           485.0   \n",
            "20638    -121.32     39.43                18.0       1860.0           409.0   \n",
            "20639    -121.24     39.37                16.0       2785.0           616.0   \n",
            "\n",
            "       population  households  median_income  median_house_value  \\\n",
            "0           322.0       126.0         8.3252            452600.0   \n",
            "1          2401.0      1138.0         8.3014            358500.0   \n",
            "2           496.0       177.0         7.2574            352100.0   \n",
            "3           558.0       219.0         5.6431            341300.0   \n",
            "4           565.0       259.0         3.8462            342200.0   \n",
            "...           ...         ...            ...                 ...   \n",
            "20635       845.0       330.0         1.5603             78100.0   \n",
            "20636       356.0       114.0         2.5568             77100.0   \n",
            "20637      1007.0       433.0         1.7000             92300.0   \n",
            "20638       741.0       349.0         1.8672             84700.0   \n",
            "20639      1387.0       530.0         2.3886             89400.0   \n",
            "\n",
            "      ocean_proximity  \n",
            "0            NEAR BAY  \n",
            "1            NEAR BAY  \n",
            "2            NEAR BAY  \n",
            "3            NEAR BAY  \n",
            "4            NEAR BAY  \n",
            "...               ...  \n",
            "20635          INLAND  \n",
            "20636          INLAND  \n",
            "20637          INLAND  \n",
            "20638          INLAND  \n",
            "20639          INLAND  \n",
            "\n",
            "[20640 rows x 10 columns]\n"
          ]
        }
      ]
    },
    {
      "cell_type": "code",
      "source": [
        "import pandas as pd\n",
        "from sklearn.model_selection import train_test_split\n",
        "from sklearn.preprocessing import MinMaxScaler"
      ],
      "metadata": {
        "id": "HTH_e0IOaU8s"
      },
      "execution_count": 17,
      "outputs": []
    },
    {
      "cell_type": "code",
      "source": [
        "file_path = '/content/housing.csv'\n",
        "housing_data = pd.read_csv(file_path)"
      ],
      "metadata": {
        "id": "hNO7Pam6a1bL"
      },
      "execution_count": 18,
      "outputs": []
    },
    {
      "cell_type": "code",
      "source": [
        "features = housing_data.drop('median_house_value', axis=1)\n",
        "features=housing_data.drop('ocean_proximity',axis=1)\n",
        "target = housing_data['median_house_value']\n"
      ],
      "metadata": {
        "id": "98FuM9JAbnG8"
      },
      "execution_count": 32,
      "outputs": []
    },
    {
      "cell_type": "code",
      "source": [
        "scaler = MinMaxScaler()\n",
        "features_normalized = scaler.fit_transform(features)\n"
      ],
      "metadata": {
        "id": "ijrDA-lods7h"
      },
      "execution_count": 33,
      "outputs": []
    },
    {
      "cell_type": "code",
      "source": [
        "print(\"Features:\")\n",
        "print(features.head())"
      ],
      "metadata": {
        "colab": {
          "base_uri": "https://localhost:8080/"
        },
        "id": "I3RYZP1bd5dm",
        "outputId": "3c04af99-440f-4078-9ba7-8b12c61dc0af"
      },
      "execution_count": 35,
      "outputs": [
        {
          "output_type": "stream",
          "name": "stdout",
          "text": [
            "Features:\n",
            "   longitude  latitude  housing_median_age  total_rooms  total_bedrooms  \\\n",
            "0    -122.23     37.88                41.0        880.0           129.0   \n",
            "1    -122.22     37.86                21.0       7099.0          1106.0   \n",
            "2    -122.24     37.85                52.0       1467.0           190.0   \n",
            "3    -122.25     37.85                52.0       1274.0           235.0   \n",
            "4    -122.25     37.85                52.0       1627.0           280.0   \n",
            "\n",
            "   population  households  median_income  median_house_value  \n",
            "0       322.0       126.0         8.3252            452600.0  \n",
            "1      2401.0      1138.0         8.3014            358500.0  \n",
            "2       496.0       177.0         7.2574            352100.0  \n",
            "3       558.0       219.0         5.6431            341300.0  \n",
            "4       565.0       259.0         3.8462            342200.0  \n"
          ]
        }
      ]
    },
    {
      "cell_type": "code",
      "source": [
        "print(\"\\nTarget:\")\n",
        "print(target.head())\n"
      ],
      "metadata": {
        "colab": {
          "base_uri": "https://localhost:8080/"
        },
        "id": "Ini_GyEJd-OK",
        "outputId": "58199d4c-c6da-4be1-9ac2-966ba3d79eba"
      },
      "execution_count": 36,
      "outputs": [
        {
          "output_type": "stream",
          "name": "stdout",
          "text": [
            "\n",
            "Target:\n",
            "0    452600.0\n",
            "1    358500.0\n",
            "2    352100.0\n",
            "3    341300.0\n",
            "4    342200.0\n",
            "Name: median_house_value, dtype: float64\n"
          ]
        }
      ]
    },
    {
      "cell_type": "code",
      "source": [
        "print(\"\\nNormalized Features:\")\n",
        "print(pd.DataFrame(features_normalized, columns=features.columns).head())"
      ],
      "metadata": {
        "colab": {
          "base_uri": "https://localhost:8080/"
        },
        "id": "ipWOjI-jeBgr",
        "outputId": "df2fd5b4-b530-4b40-99d1-77ff4197c212"
      },
      "execution_count": 37,
      "outputs": [
        {
          "output_type": "stream",
          "name": "stdout",
          "text": [
            "\n",
            "Normalized Features:\n",
            "   longitude  latitude  housing_median_age  total_rooms  total_bedrooms  \\\n",
            "0   0.211155  0.567481            0.784314     0.022331        0.019863   \n",
            "1   0.212151  0.565356            0.392157     0.180503        0.171477   \n",
            "2   0.210159  0.564293            1.000000     0.037260        0.029330   \n",
            "3   0.209163  0.564293            1.000000     0.032352        0.036313   \n",
            "4   0.209163  0.564293            1.000000     0.041330        0.043296   \n",
            "\n",
            "   population  households  median_income  median_house_value  \n",
            "0    0.008941    0.020556       0.539668            0.902266  \n",
            "1    0.067210    0.186976       0.538027            0.708247  \n",
            "2    0.013818    0.028943       0.466028            0.695051  \n",
            "3    0.015555    0.035849       0.354699            0.672783  \n",
            "4    0.015752    0.042427       0.230776            0.674638  \n"
          ]
        }
      ]
    },
    {
      "cell_type": "code",
      "source": [
        "features_train, features_test, target_train, target_test = train_test_split(\n",
        "      features_normalized, target, test_size=0.2, random_state=42\n",
        "      )\n"
      ],
      "metadata": {
        "id": "kd8pTnucej6W"
      },
      "execution_count": 39,
      "outputs": []
    },
    {
      "cell_type": "code",
      "source": [
        "print(\"\\nTrain and Test Split:\")\n",
        "print(\"Features Train Shape:\", features_train.shape)\n",
        "print(\"Features Test Shape:\", features_test.shape)\n",
        "print(\"Target Train Shape:\", target_train.shape)\n",
        "print(\"Target Test Shape:\", target_test.shape)"
      ],
      "metadata": {
        "colab": {
          "base_uri": "https://localhost:8080/"
        },
        "id": "RzHVXTg0eoJz",
        "outputId": "5300ad09-f88b-4e2d-d91b-2f7cd138717e"
      },
      "execution_count": 40,
      "outputs": [
        {
          "output_type": "stream",
          "name": "stdout",
          "text": [
            "\n",
            "Train and Test Split:\n",
            "Features Train Shape: (16512, 9)\n",
            "Features Test Shape: (4128, 9)\n",
            "Target Train Shape: (16512,)\n",
            "Target Test Shape: (4128,)\n"
          ]
        }
      ]
    }
  ]
}